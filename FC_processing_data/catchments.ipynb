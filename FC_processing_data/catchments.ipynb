{
 "cells": [
  {
   "cell_type": "code",
   "execution_count": 1,
   "metadata": {},
   "outputs": [
    {
     "name": "stdout",
     "output_type": "stream",
     "text": [
      "Original CRS: None\n",
      "Reprojected CRS: EPSG:3857\n"
     ]
    },
    {
     "data": {
      "application/vnd.jupyter.widget-view+json": {
       "model_id": "12b9c6c636aa412cb1a48b19ef5eff6d",
       "version_major": 2,
       "version_minor": 0
      },
      "text/plain": [
       "Map(center=[46.8, 8.2], controls=(ZoomControl(options=['position', 'zoom_in_text', 'zoom_in_title', 'zoom_out_…"
      ]
     },
     "execution_count": 1,
     "metadata": {},
     "output_type": "execute_result"
    }
   ],
   "source": [
    "import geopandas as gpd\n",
    "import sys\n",
    "import numpy as np\n",
    "import xarray as xr\n",
    "import geopandas as gpd\n",
    "import pandas as pd\n",
    "import leafmap\n",
    "\n",
    "\n",
    "# Define the shapefile path on Argon\n",
    "shapefile_path = \"/net/argon/landclim/fcourvoisier/runoff_projection/FC_data/shapefile_307_regions/Regions_307.shp\"\n",
    "\n",
    "# Load the shapefile\n",
    "gdf = gpd.read_file(shapefile_path)\n",
    "\n",
    "# Print the original CRS (should be None)\n",
    "print(\"Original CRS:\", gdf.crs)\n",
    "\n",
    "# Assign Swiss LV95 CRS (EPSG:2056) since it is missing\n",
    "gdf = gdf.set_crs(epsg=21781)\n",
    "\n",
    "# Reproject to match Leafmap's default CRS (EPSG:3857)\n",
    "gdf = gdf.to_crs(epsg=3857)\n",
    "print(\"Reprojected CRS:\", gdf.crs)\n",
    "\n",
    "# Display the shapefile in Leafmap\n",
    "m = leafmap.Map(center=[46.8, 8.2], zoom=7)\n",
    "m.add_gdf(gdf, layer_name=\"Catchment Boundaries\")\n",
    "m"
   ]
  }
 ],
 "metadata": {
  "kernelspec": {
   "display_name": "runoff",
   "language": "python",
   "name": "python3"
  },
  "language_info": {
   "codemirror_mode": {
    "name": "ipython",
    "version": 3
   },
   "file_extension": ".py",
   "mimetype": "text/x-python",
   "name": "python",
   "nbconvert_exporter": "python",
   "pygments_lexer": "ipython3",
   "version": "3.13.2"
  }
 },
 "nbformat": 4,
 "nbformat_minor": 2
}
